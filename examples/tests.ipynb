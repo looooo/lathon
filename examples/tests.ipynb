{
 "cells": [
  {
   "cell_type": "code",
   "execution_count": 1,
   "id": "f232b455-098c-46c1-a29b-62232afa7ee0",
   "metadata": {},
   "outputs": [],
   "source": [
    "import sympy.physics\n",
    "import sympy as sp"
   ]
  },
  {
   "cell_type": "code",
   "execution_count": 9,
   "id": "a8807dd2-6065-423b-8088-2c30947eca99",
   "metadata": {},
   "outputs": [],
   "source": [
    "from sympy.physics.units import *"
   ]
  },
  {
   "cell_type": "code",
   "execution_count": 3,
   "id": "a2e6e687-9c7d-4d2b-bf6f-f5f8db6d177a",
   "metadata": {},
   "outputs": [],
   "source": [
    "a = 10 * u.m + 20 * u.mm + 10 * u.cm "
   ]
  },
  {
   "cell_type": "code",
   "execution_count": 4,
   "id": "288d6eaf-5607-440c-90e8-a286cb7b85bc",
   "metadata": {},
   "outputs": [],
   "source": [
    "from sympy.physics.units import Quantity\n",
    "def unit(expr):\n",
    "    return expr.subs({x: 1 for x in expr.args if not x.has(Quantity)})"
   ]
  },
  {
   "cell_type": "code",
   "execution_count": 5,
   "id": "6ec5832f-a91a-4287-85fa-4f055dcb9c33",
   "metadata": {},
   "outputs": [],
   "source": [
    "b = u.convert_to(a, u.m)"
   ]
  },
  {
   "cell_type": "code",
   "execution_count": 6,
   "id": "20e44561-7594-4ea7-a709-18b4c63106da",
   "metadata": {},
   "outputs": [
    {
     "data": {
      "text/plain": [
       "(253/25, meter)"
      ]
     },
     "execution_count": 6,
     "metadata": {},
     "output_type": "execute_result"
    }
   ],
   "source": [
    "b.as_two_terms()"
   ]
  },
  {
   "cell_type": "code",
   "execution_count": 7,
   "id": "25403a41-922e-4758-96aa-4242ac488f96",
   "metadata": {},
   "outputs": [
    {
     "data": {
      "text/plain": [
       "sympy.core.add.Add"
      ]
     },
     "execution_count": 7,
     "metadata": {},
     "output_type": "execute_result"
    }
   ],
   "source": [
    "type(a)"
   ]
  },
  {
   "cell_type": "code",
   "execution_count": 10,
   "id": "18b561ac-4daf-4f1d-9a61-68aba3441992",
   "metadata": {},
   "outputs": [],
   "source": [
    "a = 10 * m"
   ]
  },
  {
   "cell_type": "code",
   "execution_count": 18,
   "id": "b784d5b9-e37d-4ff2-9f3e-2d486ded2a05",
   "metadata": {},
   "outputs": [],
   "source": [
    "s = {}\n",
    "exec(\"from sympy.physics.units import *\", s)"
   ]
  },
  {
   "cell_type": "code",
   "execution_count": 50,
   "id": "f39cbed0-6b06-4006-a0f9-5f5b21032e4c",
   "metadata": {},
   "outputs": [
    {
     "data": {
      "text/latex": [
       "$\\displaystyle 10 a \\text{m} + 59049 b \\text{mm}$"
      ],
      "text/plain": [
       "10*meter*a + 59049*millimeter*b"
      ]
     },
     "execution_count": 50,
     "metadata": {},
     "output_type": "execute_result"
    }
   ],
   "source": [
    "str_eq = \"10 * a * m + 3 ** 10 * b * mm\"\n",
    "eq = sp.sympify(str_eq, convert_xor=False, strict=False, rational=False,locals=s)\n",
    "eq"
   ]
  },
  {
   "cell_type": "code",
   "execution_count": 45,
   "id": "8105340a-1d4f-468d-bac3-5b6244528db8",
   "metadata": {},
   "outputs": [
    {
     "ename": "NameError",
     "evalue": "name 'sympify' is not defined",
     "output_type": "error",
     "traceback": [
      "\u001b[0;31m---------------------------------------------------------------------------\u001b[0m",
      "\u001b[0;31mNameError\u001b[0m                                 Traceback (most recent call last)",
      "Cell \u001b[0;32mIn[45], line 1\u001b[0m\n\u001b[0;32m----> 1\u001b[0m \u001b[43msympify\u001b[49m(\n\u001b[1;32m      2\u001b[0m                             equ,\n\u001b[1;32m      3\u001b[0m                             convert_xor\u001b[38;5;241m=\u001b[39m\u001b[38;5;28;01mTrue\u001b[39;00m,\n\u001b[1;32m      4\u001b[0m                             strict\u001b[38;5;241m=\u001b[39m\u001b[38;5;28;01mFalse\u001b[39;00m,\n\u001b[1;32m      5\u001b[0m                             rational\u001b[38;5;241m=\u001b[39m\u001b[38;5;28;01mFalse\u001b[39;00m,\n\u001b[1;32m      6\u001b[0m                             \u001b[38;5;28mlocals\u001b[39m\u001b[38;5;241m=\u001b[39m\u001b[38;5;28mself\u001b[39m\u001b[38;5;241m.\u001b[39munits)\n",
      "\u001b[0;31mNameError\u001b[0m: name 'sympify' is not defined"
     ]
    }
   ],
   "source": [
    "sympify(\n",
    "                            equ,\n",
    "                            convert_xor=True,\n",
    "                            strict=False,\n",
    "                            rational=False,\n",
    "                            locals=self.units)"
   ]
  },
  {
   "cell_type": "code",
   "execution_count": 33,
   "id": "8cf9f00d-039c-46c6-b070-9eba290c4834",
   "metadata": {},
   "outputs": [
    {
     "data": {
      "text/latex": [
       "$\\displaystyle 10 a \\text{m} + 3 b \\text{mm}$"
      ],
      "text/plain": [
       "10*meter*a + 3*millimeter*b"
      ]
     },
     "execution_count": 33,
     "metadata": {},
     "output_type": "execute_result"
    }
   ],
   "source": [
    "unit(eq)"
   ]
  },
  {
   "cell_type": "code",
   "execution_count": 72,
   "id": "cd7ea5bd-5015-417c-b3bb-18aeccddbd50",
   "metadata": {},
   "outputs": [],
   "source": [
    "block = \"\"\"a == 10. * mm + 3 * m\n",
    "b = 30. * m\n",
    "c = a + b\"\"\""
   ]
  },
  {
   "cell_type": "code",
   "execution_count": 73,
   "id": "964b6192-9bcf-49f0-a103-88c442cf4d27",
   "metadata": {},
   "outputs": [],
   "source": [
    "eq1, eq2, eq3 = block.split(\"\\n\")"
   ]
  },
  {
   "cell_type": "code",
   "execution_count": 63,
   "id": "1fc15d1e-b5f4-4ef6-9323-53a922cbf0bb",
   "metadata": {},
   "outputs": [],
   "source": [
    "lhs, rhs = eq1.split(\"=\")"
   ]
  },
  {
   "cell_type": "code",
   "execution_count": 66,
   "id": "9975726d-321d-44bb-962b-fa5581273d0a",
   "metadata": {},
   "outputs": [
    {
     "data": {
      "text/latex": [
       "$\\displaystyle 3 m + 10.0 mm$"
      ],
      "text/plain": [
       "3*m + 10.0*mm"
      ]
     },
     "execution_count": 66,
     "metadata": {},
     "output_type": "execute_result"
    }
   ],
   "source": [
    "sp.sympify(rhs)"
   ]
  },
  {
   "cell_type": "code",
   "execution_count": 67,
   "id": "e4515a3c-b1fd-4680-9730-43e7e413b878",
   "metadata": {},
   "outputs": [],
   "source": [
    "import lathon"
   ]
  },
  {
   "cell_type": "code",
   "execution_count": 68,
   "id": "5cb00c1d-4982-4d02-a459-2a4936ffe146",
   "metadata": {},
   "outputs": [],
   "source": [
    "p = lathon.Parser()"
   ]
  },
  {
   "cell_type": "code",
   "execution_count": 74,
   "id": "baa4a884-b064-4b17-8a3e-1c961d9d9d5e",
   "metadata": {},
   "outputs": [
    {
     "data": {
      "text/plain": [
       "['a ', '=', '=', ' 10. * mm + 3 * m']"
      ]
     },
     "execution_count": 74,
     "metadata": {},
     "output_type": "execute_result"
    }
   ],
   "source": [
    "p.equtoparts(eq1)"
   ]
  },
  {
   "cell_type": "code",
   "execution_count": null,
   "id": "74d0807c-f7ec-4569-bdfc-aa139c4c8418",
   "metadata": {},
   "outputs": [],
   "source": []
  }
 ],
 "metadata": {
  "kernelspec": {
   "display_name": "Python 3 (ipykernel)",
   "language": "python",
   "name": "python3"
  },
  "language_info": {
   "codemirror_mode": {
    "name": "ipython",
    "version": 3
   },
   "file_extension": ".py",
   "mimetype": "text/x-python",
   "name": "python",
   "nbconvert_exporter": "python",
   "pygments_lexer": "ipython3",
   "version": "3.11.9"
  }
 },
 "nbformat": 4,
 "nbformat_minor": 5
}
