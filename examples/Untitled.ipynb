{
 "cells": [
  {
   "cell_type": "code",
   "execution_count": 3,
   "id": "59cf4740-01d8-410b-80ef-20861759fcad",
   "metadata": {},
   "outputs": [],
   "source": [
    "with open(\"test1.py\", \"r\") as f:\n",
    "    file = f.read()"
   ]
  },
  {
   "cell_type": "code",
   "execution_count": 5,
   "id": "25962bf3-76b5-431a-9fcf-f0d4008ef328",
   "metadata": {},
   "outputs": [
    {
     "data": {
      "text/plain": [
       "['##python\\nimport lathon\\nimport numpy as np\\nfrom sympy.physics.units import *\\nfrom matplotlib import pyplot as plt\\n\\nlathon.use_units = [\\n    [J, \"J\"],\\n    [J * s, \"J * s\"]]\\n\\n',\n",
       " 'latex\\n# \\\\tableofcontents\\n# \\\\newpage\\n',\n",
       " \"latex <lathon introduction\\n# lathon is a tool for documentation of numerical computation of tasks usually arising in engineering fields.\\n# python is used to compute the formulas and latex is then used for the documentation. Files that are able to be parsed with \\n# lathon should also be valid python files, and therefore should run with a python interpreter directly, but this won't result \\n# in a latex document.\\n\",\n",
       " 'latex <<blocks\\n# the lathon blocks are seperated by two `##` following an instruction. The instruction must be one of these entities:\\n# \\\\begin{itemize}\\n#   \\\\item ##lathon\\n#   \\\\item \\n# \\\\end{itemize}\\n',\n",
       " 'lathon <basics\\ngamma_ = 1.2 * J\\nalpha = 10 * s\\nbeta_ = gamma_ * alpha\\ndelta = 100\\n',\n",
       " 'latex <plot\\n# here is demostrated how to draw matplotlib \\n# figures in the pdf\\n',\n",
       " 'python\\na = np.linspace(0, 10, 100)\\nplt.figure(figsize=(8, 4))\\nplt.plot(a, np.cos(a) * np.sin(a)**2, label=\"test\")\\nplt.legend()\\nplt.grid()\\nlathon.Parser.draw(name=\"plot\", scale=0.6, text=\"this is a plot\")\\n',\n",
       " 'latex <latex\\n\\n# \\\\[ x^n + y^n = z^n \\\\]\\n',\n",
       " 'code <function\\ndef a():\\n    return None']"
      ]
     },
     "execution_count": 5,
     "metadata": {},
     "output_type": "execute_result"
    }
   ],
   "source": [
    "file.split(\"\\n##\")"
   ]
  },
  {
   "cell_type": "code",
   "execution_count": 18,
   "id": "f232b455-098c-46c1-a29b-62232afa7ee0",
   "metadata": {},
   "outputs": [],
   "source": [
    "import sympy.physics\n",
    "import sympy as sp"
   ]
  },
  {
   "cell_type": "code",
   "execution_count": 2,
   "id": "a8807dd2-6065-423b-8088-2c30947eca99",
   "metadata": {},
   "outputs": [],
   "source": [
    "import sympy.physics.units as u"
   ]
  },
  {
   "cell_type": "code",
   "execution_count": 31,
   "id": "a2e6e687-9c7d-4d2b-bf6f-f5f8db6d177a",
   "metadata": {},
   "outputs": [],
   "source": [
    "a = 10 * u.m + 20 * u.mm + 10 * u.cm "
   ]
  },
  {
   "cell_type": "code",
   "execution_count": 32,
   "id": "288d6eaf-5607-440c-90e8-a286cb7b85bc",
   "metadata": {},
   "outputs": [],
   "source": [
    "from sympy.physics.units import Quantity\n",
    "def unit(expr):\n",
    "    return expr.subs({x: 1 for x in expr.args if not x.has(Quantity)})"
   ]
  },
  {
   "cell_type": "code",
   "execution_count": 38,
   "id": "6ec5832f-a91a-4287-85fa-4f055dcb9c33",
   "metadata": {},
   "outputs": [],
   "source": [
    "b = u.convert_to(a, u.m)"
   ]
  },
  {
   "cell_type": "code",
   "execution_count": 39,
   "id": "20e44561-7594-4ea7-a709-18b4c63106da",
   "metadata": {},
   "outputs": [
    {
     "data": {
      "text/plain": [
       "(253/25, meter)"
      ]
     },
     "execution_count": 39,
     "metadata": {},
     "output_type": "execute_result"
    }
   ],
   "source": [
    "b.as_two_terms()"
   ]
  },
  {
   "cell_type": "code",
   "execution_count": 41,
   "id": "25403a41-922e-4758-96aa-4242ac488f96",
   "metadata": {},
   "outputs": [
    {
     "data": {
      "text/plain": [
       "sympy.core.add.Add"
      ]
     },
     "execution_count": 41,
     "metadata": {},
     "output_type": "execute_result"
    }
   ],
   "source": [
    "type(a)"
   ]
  },
  {
   "cell_type": "code",
   "execution_count": null,
   "id": "18b561ac-4daf-4f1d-9a61-68aba3441992",
   "metadata": {},
   "outputs": [],
   "source": []
  }
 ],
 "metadata": {
  "kernelspec": {
   "display_name": "Python 3 (ipykernel)",
   "language": "python",
   "name": "python3"
  },
  "language_info": {
   "codemirror_mode": {
    "name": "ipython",
    "version": 3
   },
   "file_extension": ".py",
   "mimetype": "text/x-python",
   "name": "python",
   "nbconvert_exporter": "python",
   "pygments_lexer": "ipython3",
   "version": "3.11.9"
  }
 },
 "nbformat": 4,
 "nbformat_minor": 5
}
